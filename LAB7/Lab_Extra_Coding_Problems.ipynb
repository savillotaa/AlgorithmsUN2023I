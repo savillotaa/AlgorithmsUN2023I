{
  "nbformat": 4,
  "nbformat_minor": 0,
  "metadata": {
    "colab": {
      "provenance": [],
      "authorship_tag": "ABX9TyN6/XmHxfpRi6/rx1//xWkY",
      "include_colab_link": true
    },
    "kernelspec": {
      "name": "python3",
      "display_name": "Python 3"
    },
    "language_info": {
      "name": "python"
    }
  },
  "cells": [
    {
      "cell_type": "markdown",
      "metadata": {
        "id": "view-in-github",
        "colab_type": "text"
      },
      "source": [
        "<a href=\"https://colab.research.google.com/github/savillotaa/AlgorithmsUN2023I/blob/main/LAB7/Lab_Extra_Coding_Problems.ipynb\" target=\"_parent\"><img src=\"https://colab.research.google.com/assets/colab-badge.svg\" alt=\"Open In Colab\"/></a>"
      ]
    },
    {
      "cell_type": "markdown",
      "source": [
        "Ejercicios de Coursera Extra"
      ],
      "metadata": {
        "id": "zXjoYKSUwA_i"
      }
    },
    {
      "cell_type": "code",
      "source": [
        "def fibonacci_mod(n,k):\n",
        "  if n <= 1:\n",
        "    return n\n",
        "  arr = [0, 1]\n",
        "  prev = 0\n",
        "  curr = 1\n",
        "\n",
        "  for i in range(n-1):\n",
        "    temp = prev\n",
        "    prev = curr % k\n",
        "    curr = (temp + curr) % k\n",
        "    arr.append(curr)\n",
        "    if curr == 1 and prev == 0:\n",
        "      index = (n % (i+1))\n",
        "      f_n_mod_kt = arr[index]\n",
        "      return f_n_mod_kt\n",
        "  f_n_mod_kt = curr\n",
        "  return f_n_mod_kt"
      ],
      "metadata": {
        "id": "AhEZJi9awH-u"
      },
      "execution_count": 21,
      "outputs": []
    },
    {
      "cell_type": "code",
      "source": [
        "def sum_fib(n):\n",
        "  n = n % 60\n",
        "  \n",
        "  prev = 0\n",
        "  curr = 1\n",
        "  temp = 0\n",
        "  rta = 0\n",
        "\n",
        "  for i in range(n):\n",
        "    rta =  (rta + curr) % 10\n",
        "    temp = prev\n",
        "    prev = curr\n",
        "    curr = (temp + curr) % 10\n",
        "\n",
        "  return rta"
      ],
      "metadata": {
        "id": "ptxVnBq5wIvk"
      },
      "execution_count": 25,
      "outputs": []
    },
    {
      "cell_type": "code",
      "source": [
        "def last_partial_sum_fib(m, n):\n",
        "  m = m % 60\n",
        "  n = n & 60\n",
        "\n",
        "  if n < m:\n",
        "    n += 60\n",
        "  \n",
        "  prev = 0\n",
        "  curr = 1\n",
        "  temp = 0\n",
        "  rta = 0\n",
        "\n",
        "  for i in range(n+1):\n",
        "    if i >= m:\n",
        "      rta =  (rta + curr) % 10\n",
        "    temp = prev\n",
        "    prev = curr\n",
        "    curr = (temp + curr) % 10\n",
        "\n",
        "  return rta"
      ],
      "metadata": {
        "id": "Mz8kDl7swIgj"
      },
      "execution_count": null,
      "outputs": []
    },
    {
      "cell_type": "code",
      "source": [
        "def fibonacci_sum_of_squares(n):\n",
        "  n = n % 60\n",
        "  if n <= 1:\n",
        "    return n\n",
        "  prev = 0\n",
        "  curr = 1\n",
        "  temp = 0\n",
        "\n",
        "  for i in range(n):\n",
        "    temp = prev\n",
        "    prev = curr\n",
        "    curr = temp + curr % 10\n",
        "\n",
        "  return (prev * curr) % 10\n",
        "    "
      ],
      "metadata": {
        "id": "rVSZ5IFgwIUU"
      },
      "execution_count": 23,
      "outputs": []
    }
  ]
}