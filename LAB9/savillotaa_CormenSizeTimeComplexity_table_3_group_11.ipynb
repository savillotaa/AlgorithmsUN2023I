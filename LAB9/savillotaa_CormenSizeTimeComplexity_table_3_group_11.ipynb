{
  "cells": [
    {
      "cell_type": "markdown",
      "metadata": {
        "id": "view-in-github",
        "colab_type": "text"
      },
      "source": [
        "<a href=\"https://colab.research.google.com/github/savillotaa/AlgorithmsUN2023I/blob/main/LAB9/savillotaa_CormenSizeTimeComplexity_table_3_group_11.ipynb\" target=\"_parent\"><img src=\"https://colab.research.google.com/assets/colab-badge.svg\" alt=\"Open In Colab\"/></a>"
      ]
    },
    {
      "cell_type": "markdown",
      "source": [
        "# 3. (1 nanosecond by instruction)\n",
        "\n",
        "Asuuming that you can execute a 1000 million instructions $10^9$ every second, i.e. each instrcution takes 1  nanosecond, 1 $\\eta s  = 10^{-9} s$. If you have algorithms take $\\bf{ Time\\ Complexity}$ steps to solve a problem of size $n$ as specified in column one. What is the size of the largest problem that you can solve in the time specified in row one?\n",
        "$$\n",
        "\\begin{array}{|c|c|c|c|c|c|c|c|} \n",
        " \\hline\n",
        " \\bf{ Time\\ Complexity} & Second  & Minute  & Hour & Day & Year & Century & Mileniun  \\\\ \n",
        "  \\hline\\\\ \n",
        "\\lg(n) &   2^{10^{9} }  &  2^{6 \\times 10^{10} } & 2^{3.6 \\times 10^{12}} &  2^{8.64 \\times 10^{13}}& 2^{3.1536 \\times 10^{16}} & 2^{3.1536 \\times 10^{18}} & 2^{3.1536 \\times 10^{21}} \\\\ \n",
        "   \\hline\\\\ \n",
        "\\lg^2(n) &   2^{10^{(9/2)}}  & 2^{10^5 \\times\\sqrt6}  & 2^{10^5 \\times\\sqrt6} & 2^{ 10^{13/2}\\times\\sqrt{8.64}  } & 2^{ 10^8\\times\\sqrt{3.1536} } & 2^{ 10^9\\times\\sqrt{3.1536} } &  2^{ 10^{10}\\times\\sqrt{31.536} } \\\\ \n",
        "   \\hline\\\\ \n",
        "\\sqrt{n} &  10^{18}  & 3.6 \\times10^{21}  & 1.296 \\times10^{25} & 7.15716 \\times10^{27}& 9.94519296 \\times10^{32} & 9.94519296  \\times10^{36} & 9.94519296 \\times10^{42}\\\\ \n",
        " \\hline\n",
        " n & 10^{9}    & 6 \\times 10^{10}   & 3.6 \\times 10^{12} & 8.64 \\times 10^{13} & 3.1536 \\times 10^{16} & 3.1536 \\times 10^{18} &  3.1536 \\times 10^{21}\\\\ \n",
        " \\hline\n",
        " n\\lg(n) &  39620077  & 1944470450  &  98574774544  & 2110372739876&  641136862352841 & 56665093434063120 &  48230089612197773312 \\\\ \n",
        " \\hline\n",
        " n^2 &  31623  & 244949  & 1897367 & 9295160 & 177583783 & 1775837830 &  56156922993 \\\\ \n",
        " \\hline\n",
        "  n^3 &  215 &  843 & 3302 &  9524  &  68067 & 315938 & 3159382 \\\\ \n",
        " \\hline\n",
        "  n^4 &  178  &  495  & 1377 & 3049 & 13326 & 42141  & 236975 \\\\ \n",
        " \\hline\n",
        "  2^n &  29  &  35 & 41 & 46 & 54 & 61 & 71 \\\\ \n",
        " \\hline\n",
        " n! &  12  & 13 &  15 & 16 & 18 & 20  &  22\\\\ \n",
        " \\hline\n",
        " n^n &  9  &  10 & 11 & 12 & 14 & 15 & 17 \\\\ \n",
        " \\hline\n",
        "\\end{array}\n",
        "$$\n"
      ],
      "metadata": {
        "id": "hKSpLlElWJWs"
      }
    },
    {
      "cell_type": "markdown",
      "metadata": {
        "id": "1gugytaatVFg"
      },
      "source": [
        "$\\bf{ Time\\ Complexity\\ \\lg(n) }$\n",
        "\n",
        "$Second$\n",
        "$$ \\lg(n) \\times 10^{-9}\\ s\\le 1\\ s$$ \n",
        "$$ \\lg(n) \\le 1 * 10^{9}$$ \n",
        "$$ 2^{\\lg(n)} \\le 2^{10^{9}}$$ \n",
        "$$ n \\le 2^{10^{9}}$$ \n",
        "\n",
        "$Minute$\n",
        "$$ \\lg(n) \\times 10^{-9} \\ s \\le 60\\ s$$ \n",
        "$$ \\lg(n) \\le 60 \\times 10^{9} $$ \n",
        "$$ 2^{\\lg(n)} \\le 2^{60 \\times 10^{9} }$$ \n",
        "$$ n \\le 2^{6 \\times 10^{10} }$$ \n",
        "\n",
        "$Hour$\n",
        "$$ \\lg(n) \\times 10^{-9} \\ s \\le 3600\\ s$$ \n",
        "$$ \\lg(n) \\le 3600 \\times 10^{9} $$ \n",
        "$$ 2^{\\lg(n)} \\le 2^{3.6 \\times 10^{12}}$$ \n",
        "$$ n \\le 2^{3.6 \\times 10^{12}}$$ \n",
        "\n",
        "$Day$\n",
        "$$ \\lg(n) \\times 10^{-9} \\ s \\le 86400\\ s$$ \n",
        "$$ \\lg(n) \\le 86400\\times 10^{9} $$ \n",
        "$$ 2^{\\lg(n)} \\le 2^{8.64 \\times 10^{13}}$$ \n",
        "$$ n \\le 2^{8.64 \\times 10^{13}}$$ \n",
        "\n",
        "$Year$\n",
        "$$ \\lg(n) \\times 10^{-9} \\ s \\le 31536000\\ s$$ \n",
        "$$ \\lg(n) \\le 31536000\\times 10^{9} $$ \n",
        "$$ 2^{\\lg(n)} \\le 2^{3.1536 \\times 10^{16}}$$ \n",
        "$$ n \\le 2^{3.1536 \\times 10^{16}}$$ \n",
        "\n",
        "$Century$\n",
        "$$ \\lg(n) \\times 10^{-9} \\ s \\le 3153600000\\ s$$ \n",
        "$$ \\lg(n) \\le 3153600000\\times 10^{9} $$ \n",
        "$$ 2^{\\lg(n)} \\le 2^{3.1536 \\times 10^{18}}$$ \n",
        "$$ n \\le 2^{3.1536 \\times 10^{18}}$$ \n",
        "\n",
        "$Mileniun$\n",
        "$$ \\lg(n) \\times 10^{-9} \\ s \\le 3153600000000\\ s$$ \n",
        "$$ \\lg(n) \\le 3153600000000\\times 10^{9} $$ \n",
        "$$ 2^{\\lg(n)} \\le 2^{3.1536 \\times 10^{21}}$$ \n",
        "$$ n \\le 2^{3.1536 \\times 10^{21}}$$ "
      ]
    },
    {
      "cell_type": "markdown",
      "metadata": {
        "id": "fMEAP4c32GBF"
      },
      "source": [
        "$\\bf{ Time\\ Complexity\\ \\lg^2(n) }$\n",
        "\n",
        "$Second$\n",
        "$$ \\lg^2(n) \\times 10^{-9} \\ s\\le 1\\ s$$ \n",
        "$$ \\lg(n) \\le \\sqrt{1 * 10^{9} }$$ \n",
        "$$ 2^{\\lg(n)} \\le 2^{\\sqrt{1 * 10^{9} }}$$ \n",
        "$$ n \\le 2^{10^{(9/2)}}$$ \n",
        "\n",
        "$Minute$\n",
        "$$ \\lg^2(n) \\times 10^{-9} \\ s \\le 60\\ s$$ \n",
        "$$ \\lg(n) \\le \\sqrt{60 \\times 10^{9} }$$ \n",
        "$$ 2^{\\lg(n)} \\le 2^{\\sqrt{60 \\times 10^{9} }}$$ \n",
        "$$ n \\le 2^{10^5 \\times\\sqrt6}$$ \n",
        "\n",
        "$Hour$\n",
        "$$ \\lg^2(n) \\times 10^{-9} \\ s \\le 3600\\ s$$ \n",
        "$$ \\lg(n) \\le \\sqrt{3600 \\times 10^{9} }$$ \n",
        "$$ 2^{\\lg(n)} \\le 2^{\\sqrt{3.6 \\times 10^{12}}}$$ \n",
        "$$ n \\le  2^{ 10^6 \\times\\sqrt{3.6} }$$ \n",
        "\n",
        "$Day$\n",
        "$$ \\lg^2(n) \\times 10^{-9} \\ s \\le 86400\\ s$$ \n",
        "$$ \\lg(n) \\le \\sqrt{86400\\times 10^{9} }$$ \n",
        "$$ 2^{\\lg(n)} \\le 2^{\\sqrt{8.64\\times 10^{13}}}$$ \n",
        "$$ n \\le 2^{ 10^{13/2}\\times\\sqrt{8.64}  }$$ \n",
        "\n",
        "$Year$\n",
        "$$ \\lg^2(n) \\times 10^{-9} \\ s \\le 31536000\\ s$$ \n",
        "$$ \\lg(n) \\le \\sqrt{31536000\\times 10^{9} }$$ \n",
        "$$ 2^{\\lg(n)} \\le 2^{\\sqrt{3.1536\\times 10^{16}}}$$ \n",
        "$$ n \\le 2^{ 10^8\\times\\sqrt{3.1536} }$$ \n",
        "\n",
        "$Century$\n",
        "$$ \\lg^2(n) \\times 10^{-9} \\ s \\le 3153600000\\ s$$ \n",
        "$$ \\lg(n) \\le \\sqrt{3153600000\\times 10^{9} }$$ \n",
        "$$ 2^{\\lg(n)} \\le 2^{\\sqrt{3.1536 \\times 10^{18}}}$$ \n",
        "$$ n \\le 2^{ 10^9\\times\\sqrt{3.1536} }$$ \n",
        "\n",
        "$Mileniun$\n",
        "$$ \\lg^2(n) \\times 10^{-9} \\ s \\le 3153600000000\\ s$$ \n",
        "$$ \\lg(n) \\le \\sqrt{3153600000000\\times 10^{9} }$$ \n",
        "$$ 2^{\\lg(n)} \\le 2^{\\sqrt{31.536 \\times 10^{20}}}$$ \n",
        "$$ n \\le 2^{ 10^{10}\\times\\sqrt{31.536} }$$ "
      ]
    },
    {
      "cell_type": "code",
      "execution_count": null,
      "metadata": {
        "colab": {
          "base_uri": "https://localhost:8080/"
        },
        "id": "4vPVLlpv2gyT",
        "outputId": "540bff4a-a22c-495c-e358-f531131b8454"
      },
      "outputs": [
        {
          "output_type": "stream",
          "name": "stdout",
          "text": [
            "Second 2^{ 31623 }\n",
            "Minute 2^{ 244949 }\n",
            "Hour 2^{ 1897367 }\n",
            "Day 2^{ 9295160 }\n",
            "Year 2^{ 177583783 }\n",
            "Century 2^{ 1775837830 }\n",
            "Mileniun 2^{ 56156922993 }\n"
          ]
        }
      ],
      "source": [
        "import math\n",
        "print(\"Second 2^{\",round(math.sqrt(10**9)),\"}\")\n",
        "print(\"Minute 2^{\",round(math.sqrt(60*10**9)),\"}\")\n",
        "print(\"Hour 2^{\",round(math.sqrt(60*60*10**9)),\"}\")\n",
        "print(\"Day 2^{\",round(math.sqrt(24*60*60*10**9)),\"}\")\n",
        "print(\"Year 2^{\",round(math.sqrt(365*24*60*60*10**9)),\"}\")\n",
        "print(\"Century 2^{\",round(math.sqrt(100*365*24*60*60*10**9)),\"}\")\n",
        "print(\"Mileniun 2^{\",round(math.sqrt(1000*100*365*24*60*60*10**9)),\"}\")\n"
      ]
    },
    {
      "cell_type": "markdown",
      "metadata": {
        "id": "WZa229V56UcN"
      },
      "source": [
        "$\\bf{ Time\\ Complexity\\ \\sqrt{n} }$\n",
        "\n",
        "$Second$\n",
        "$$  \\sqrt{n}  \\times 10^{-9} \\ s\\le 1\\ s$$ \n",
        "$$  \\sqrt{n}  \\le 10^{9}  $$\n",
        "$$  n \\le   10^{18}$$ \n",
        "\n",
        "$Minute$\n",
        "$$  \\sqrt{n} \\times 10^{-9} \\ s\\le 60\\ s$$ \n",
        "$$  \\sqrt{n}  \\le 60 \\times 10^{9} $$ \n",
        "$$  n \\le 3.6 \\times10^{21}$$ \n",
        "\n",
        "$Hour$\n",
        "$$  \\sqrt{n}\\times 10^{-9} \\ s\\le 3600\\ s$$ \n",
        "$$  \\sqrt{n} \\le 3600 \\times 10^{9}$$ \n",
        "$$  n  \\le 1.296 \\times10^{25}$$ \n",
        "\n",
        "$Day$\n",
        "$$  \\sqrt{n} \\times 10^{-9} \\ s\\le 84600\\ s$$ \n",
        "$$  \\sqrt{n}\\le 84600 \\times 10^{9} $$ \n",
        "$$  n \\le 7.15716 \\times10^{27}$$ \n",
        "\n",
        "$Year$\n",
        "$$  \\sqrt{n} \\times 10^{-9} \\ s\\le 31536000\\ s$$ \n",
        "$$  \\sqrt{n} \\le 31536000 \\times 10^{9} $$ \n",
        "$$  n \\le 9.94519296 \\times10^{32}$$ \n",
        "\n",
        "$Century$\n",
        "$$  \\sqrt{n} \\times 10^{-9} \\ s\\le 3153600000\\ s$$ \n",
        "$$  \\sqrt{n} \\le 3153600000 \\times 10^{9} $$ \n",
        "$$  n \\le 9.94519296  \\times10^{36}$$ \n",
        "\n",
        "$Mileniun$\n",
        "$$  \\sqrt{n} \\times 10^{-9} \\ s\\le 3153600000000\\ s$$ \n",
        "$$  \\sqrt{n} \\le 3153600000000 \\times 10^{9} $$ \n",
        "$$  n \\le 9.94519296 \\times10^{42}$$ \n",
        "\n"
      ]
    },
    {
      "cell_type": "code",
      "execution_count": null,
      "metadata": {
        "colab": {
          "base_uri": "https://localhost:8080/"
        },
        "id": "C0Zo-idx-iVH",
        "outputId": "8ec82621-00f0-472d-c713-5942e1528ab3"
      },
      "outputs": [
        {
          "output_type": "stream",
          "name": "stdout",
          "text": [
            "Second  1.00000000E+18\n",
            "Minute   3.60000000E+21\n",
            "Hour  1.29600000E+25\n",
            "Day  7.46496000E+27\n",
            "Year  9.94519296E+32\n",
            "Century  9.94519296E+36\n",
            "Mileniun   9.94519296E+42\n"
          ]
        }
      ],
      "source": [
        "import math\n",
        "print(\"Second \", \"{:.8E}\".format(math.pow(10**9,2)))\n",
        "print(\"Minute  \",\"{:.8E}\".format(math.pow(60*10**9,2)))\n",
        "print(\"Hour \",\"{:.8E}\".format(math.pow(60*60*10**9,2)))\n",
        "print(\"Day \",\"{:.8E}\".format(math.pow(24*60*60*10**9,2)))\n",
        "print(\"Year \",\"{:.8E}\".format(math.pow(365*24*60*60*10**9,2)))\n",
        "print(\"Century \",\"{:.8E}\".format(math.pow(100*365*24*60*60*10**9,2)))\n",
        "print(\"Mileniun  \",\"{:.8E}\".format(math.pow(1000*100*365*24*60*60*10**9,2)))"
      ]
    },
    {
      "cell_type": "markdown",
      "metadata": {
        "id": "Jg7RtE2sDMWt"
      },
      "source": [
        "$\\bf{ Time\\ Complexity\\ n }$\n",
        "\n",
        "$Second$\n",
        "$$  n  \\times 10^{-9} \\ s\\le 1\\ s$$ \n",
        "$$  n \\le  10^{9} $$ \n",
        "\n",
        "\n",
        "$Minute$\n",
        "$$  n \\times 10^{-9} \\ s\\le 60\\ s$$ \n",
        "$$  n \\le 6 \\times 10^{10} $$ \n",
        "\n",
        "\n",
        "$Hour$\n",
        "$$  n \\times 10^{-9} \\ s\\le 3600\\ s$$ \n",
        "$$  n \\le 3600 \\times 10^{9}  = 3.6 \\times 10^{12}$$ \n",
        "\n",
        "\n",
        "$Day$\n",
        "$$  n \\times 10^{-9} \\ s\\le 84600\\ s$$ \n",
        "$$  n \\le 84600 \\times 10^{9}  = 8.46 \\times 10^{13}$$ \n",
        "\n",
        "\n",
        "$Year$\n",
        "$$  n \\times 10^{-9} \\ s\\le 31536000\\ s$$ \n",
        "$$  n \\le 31536000 \\times 10^{9}   = 3.1536 \\times 10^{16}$$ \n",
        "\n",
        "\n",
        "\n",
        "$Century$\n",
        "$$  n \\times 10^{-9} \\ s\\le 3153600000\\ s$$ \n",
        "$$  n \\le 3153600000 \\times 10^{9}  = 3.1536 \\times 10^{18}$$ \n",
        " \n",
        "\n",
        "$Mileniun$\n",
        "$$  n \\times 10^{-9} \\ s\\le 3153600000000\\ s$$ \n",
        "$$  n \\le 3153600000000 \\times 10^{9}  = 3.1536 \\times 10^{21}$$ "
      ]
    },
    {
      "cell_type": "code",
      "execution_count": null,
      "metadata": {
        "colab": {
          "base_uri": "https://localhost:8080/"
        },
        "id": "fy_lmdMfw8F0",
        "outputId": "f4da0b40-f92c-439d-a466-9e37396d99b6"
      },
      "outputs": [
        {
          "output_type": "stream",
          "name": "stdout",
          "text": [
            "Second  1.00000000E+09\n",
            "Minute   6.00000000E+10\n",
            "Hour  3.60000000E+12\n",
            "Day  8.64000000E+13\n",
            "Year  3.15360000E+16\n",
            "Century  3.15360000E+18\n",
            "Mileniun   3.15360000E+21\n"
          ]
        }
      ],
      "source": [
        "import math\n",
        "print(\"Second \", \"{:.8E}\".format(10**9))\n",
        "print(\"Minute  \",\"{:.8E}\".format(60*10**9))\n",
        "print(\"Hour \",\"{:.8E}\".format(60*60*10**9))\n",
        "print(\"Day \",\"{:.8E}\".format(24*60*60*10**9))\n",
        "print(\"Year \",\"{:.8E}\".format(365*24*60*60*10**9))\n",
        "print(\"Century \",\"{:.8E}\".format(100*365*24*60*60*10**9))\n",
        "print(\"Mileniun  \",\"{:.8E}\".format(1000*100*365*24*60*60*10**9))"
      ]
    },
    {
      "cell_type": "markdown",
      "metadata": {
        "id": "vd6mlBsIDe9j"
      },
      "source": [
        "$\\bf{ Time\\ Complexity\\ n\\lg{n} }$\n",
        "\n",
        "$Second$\n",
        "$$   n\\lg{n}  \\times 10^{-9} \\ s\\le 1\\ s$$ \n",
        "$$   n\\lg{n} \\le  10^{9} $$\n",
        "$$n \\le 39620077$$ \n",
        "\n",
        "\n",
        "$Minute$\n",
        "$$   n\\lg{n} \\times 10^{-9} \\ s\\le 60\\ s$$ \n",
        "$$   n\\lg{n} \\le 60 \\times 10^{9} $$ \n",
        "$$n \\le 1944470450$$\n",
        "\n",
        "\n",
        "$Hour$\n",
        "$$   n\\lg{n} \\times 10^{-9} \\ s\\le 3600\\ s$$ \n",
        "$$   n\\lg{n} \\le 3600 \\times 10^{9} $$ \n",
        "$$n \\le 98574774544$$\n",
        "\n",
        "\n",
        "$Day$\n",
        "$$   n\\lg{n} \\times 10^{-9} \\ s\\le 84600\\ s$$ \n",
        "$$   n\\lg{n} \\le 84600 \\times 10^{9} $$ \n",
        "$$n \\le 2110372739876$$\n",
        "\n",
        "\n",
        "$Year$\n",
        "$$   n\\lg{n} \\times 10^{-9} \\ s\\le 31536000\\ s$$ \n",
        "$$   n\\lg{n} \\le 31536000 \\times 10^{9} $$ \n",
        "$$n \\le 641136862352841$$\n",
        "\n",
        "\n",
        "\n",
        "$Century$\n",
        "$$   n\\lg{n} \\times 10^{-9} \\ s\\le 3153600000\\ s$$ \n",
        "$$   n\\lg{n} \\le 3153600000 \\times 10^{9} $$ \n",
        "$$n \\le 56665093434063120$$\n",
        " \n",
        "\n",
        "$Mileniun$\n",
        "$$   n\\lg{n} \\times 10^{-9} \\ s\\le 3153600000000\\ s$$ \n",
        "$$  n\\lg{n} \\le 3153600000000 \\times 10^{9} $$ \n",
        "$$n \\le 48230089612197773312$$"
      ]
    },
    {
      "cell_type": "code",
      "execution_count": null,
      "metadata": {
        "colab": {
          "base_uri": "https://localhost:8080/"
        },
        "id": "6prelV3_Ja9T",
        "outputId": "49bf1406-9885-4335-e4a6-dc3d00cb5886"
      },
      "outputs": [
        {
          "output_type": "stream",
          "name": "stdout",
          "text": [
            "Second  39620077  =  3.96200770E+07\n",
            "Minute   1944470450  =  1.94447045E+09\n",
            "Hour  98574774544  =  9.85747745E+10\n",
            "Day  2110372739876  =  2.11037274E+12\n",
            "Year  641136862352841  =  6.41136862E+14\n",
            "Century  56665093434063120  =  5.66650934E+16\n",
            "Mileniun  48230089612197773312  =  4.82300896E+19\n"
          ]
        }
      ],
      "source": [
        "import math\n",
        "def f(n):\n",
        "  return n*math.log2(n)\n",
        "\n",
        "\n",
        "def find(f,v):\n",
        "  l = 1\n",
        "  r = v\n",
        "  while True:\n",
        "    m = int((l+r)/2)\n",
        "    if ((f(m+1) > v) and (f(m) <= v) ) or (l == m) or  (r == m):\n",
        "      return int(m)   \n",
        "    elif f(m) < v:\n",
        "      l = m\n",
        "    else: \n",
        "      r = m\n",
        "\n",
        "print(\"Second \", find(f,10**9),\" = \", \"{:.8E}\".format(find(f,10**9 )))\n",
        "print(\"Minute  \",find(f,60*10**9),\" = \", \"{:.8E}\".format(find(f,60*10**9 )))\n",
        "print(\"Hour \",find(f,60*60*10**9),\" = \", \"{:.8E}\".format(find(f,60*60*10**9 )))\n",
        "print(\"Day \",find(f,24*60*60*10**9 ),\" = \", \"{:.8E}\".format(find(f,24*60*60*10**9 )) )\n",
        "print(\"Year \",find(f,365*24*60*60*10**9 ),\" = \", \"{:.8E}\".format(find(f,365*24*60*60*10**9 )) )\n",
        "print(\"Century \",find(f,100*365*24*60*60*10**9 ),\" = \", \"{:.8E}\".format(find(f,100*365*24*60*60*10**9 )) )\n",
        "print(\"Mileniun \",find(f,1000*100*365*24*60*60*10**9 ),\" = \", \"{:.8E}\".format(find(f,1000*100*365*24*60*60*10**9 )) )"
      ]
    },
    {
      "cell_type": "markdown",
      "metadata": {
        "id": "odG6_KiOBEK4"
      },
      "source": [
        "$\\bf{ Time\\ Complexity\\ n^2}$\n",
        "\n",
        "$Second$\n",
        "$$  n^2 \\times 10^{-9} \\ s\\le 1\\ s$$ \n",
        "$$  n^2 \\le  10^{9} $$ \n",
        "$$ \\sqrt{n^2} \\le \\sqrt{10^{9} }$$ \n",
        "$$ n \\le 31623 $$ \n",
        "\n",
        "$Minute$\n",
        "$$  n^2\\times 10^{-9} \\ s\\le 60\\ s$$ \n",
        "$$  n^2 \\le 60 \\times 10^{9} $$ \n",
        "$$ \\sqrt{n^2} \\le \\sqrt{60 \\times10^{9} }$$ \n",
        "$$ n \\le  244949 $$\n",
        "  \n",
        "$Hour$\n",
        "$$  n^2 \\times 10^{-9} \\ s\\le 3600\\ s$$ \n",
        "$$ n^2 \\le 3600 \\times 10^{9} $$ \n",
        "$$ \\sqrt{n^2} \\le \\sqrt{3.6 \\times10^{11}}$$ \n",
        "$$ n \\le 1897367$$\n",
        "\n",
        "$Day$\n",
        "$$  n^2 \\times 10^{-9} \\ s\\le 84600\\ s$$ \n",
        "$$  n^2 \\le 84600 \\times 10^{9} $$ \n",
        "$$ \\sqrt{n^2} \\le \\sqrt{8.46 \\times10^{12}}$$ \n",
        "$$ n \\le 9295160 $$\n",
        "\n",
        "$Year$\n",
        "$$  n^2 \\times 10^{-9} \\ s\\le 31536000\\ s$$ \n",
        "$$  n^2 \\le 31536000 \\times 10^{9} $$ \n",
        "$$ \\sqrt{n^2} \\le \\sqrt{3.1536 \\times10^{15}}$$ \n",
        "$$ n \\le 177583783 $$ \n",
        "\n",
        "$Century$\n",
        "$$  n^2 \\times 10^{-7} \\ s\\le 3153600000\\ s$$ \n",
        "$$  n^2 \\le 3153600000 \\times 10^{7} $$ \n",
        "$$ \\sqrt{n^2} \\le \\sqrt{3.1536 \\times10^{15}}$$ \n",
        "$$ n \\le 1775837830 $$ \n",
        "\n",
        "$Mileniun$\n",
        "$$  n^2 \\times 10^{-9} \\ s\\le 3153600000000\\ s$$ \n",
        "$$ n^2 \\le 3153600000000 \\times 10^{9} $$ \n",
        "$$ \\sqrt{n^2} \\le \\sqrt{3.1536 \\times10^{20}}$$ \n",
        "$$ n \\le 56156922993 $$  \n"
      ]
    },
    {
      "cell_type": "code",
      "execution_count": null,
      "metadata": {
        "colab": {
          "base_uri": "https://localhost:8080/"
        },
        "id": "szukBFthF1_s",
        "outputId": "1ac47ab1-bc93-4c08-9327-592178c0a2b7"
      },
      "outputs": [
        {
          "output_type": "stream",
          "name": "stdout",
          "text": [
            "Second  31623\n",
            "Minute   244949\n",
            "Hour  1897367\n",
            "Day  9295160\n",
            "Year  177583783\n",
            "Century  1775837830\n",
            "Mileniun  56156922993\n"
          ]
        }
      ],
      "source": [
        "import math\n",
        "print(\"Second \",round(math.sqrt(10**9 )))\n",
        "print(\"Minute  \",round(math.sqrt(60*10**9 )))\n",
        "print(\"Hour \",round(math.sqrt(60*60*10**9 )))\n",
        "print(\"Day \",round(math.sqrt(24*60*60*10**9 )))\n",
        "print(\"Year \",round(math.sqrt(365*24*60*60*10**9 )))\n",
        "print(\"Century \",round(math.sqrt(100*365*24*60*60*10**9 )))\n",
        "print(\"Mileniun \",round(math.sqrt(1000*100*365*24*60*60*10**9 )))"
      ]
    },
    {
      "cell_type": "markdown",
      "metadata": {
        "id": "kNrJud31v-8n"
      },
      "source": [
        "$\\bf{ Time\\ Complexity\\ n^3 }$\n",
        "\n",
        "$Second$\n",
        "$$  n^3 \\times 10^{-9} \\ s\\le 1\\ s$$ \n",
        "$$  n^3 \\le  10^{9} $$ \n",
        "$$ \\sqrt[4]{n^3} \\le \\sqrt[3]{10^{9} }$$ \n",
        "$$ n \\le  1000 $$ \n",
        "\n",
        "$Minute$\n",
        "$$  n^3 \\times 10^{-9} \\ s\\le 60\\ s$$ \n",
        "$$  n^3 \\le 60 \\times 10^{9} $$ \n",
        "$$ \\sqrt[3]{n^3} \\le \\sqrt[3]{60 \\times10^{9} }$$ \n",
        "$$ n \\le  3915 $$\n",
        "  \n",
        "$Hour$\n",
        "$$  n^3 \\times 10^{-9} \\ s\\le 3600\\ s$$ \n",
        "$$  n^3 \\le 3600 \\times 10^{9} $$ \n",
        "$$ \\sqrt[3]{n^3 } \\le \\sqrt[3]{3.6 \\times10^{11}}$$ \n",
        "$$ n \\le 15326 $$\n",
        "\n",
        "$Day$\n",
        "$$  n^3 \\times 10^{-9} \\ s\\le 84600\\ s$$ \n",
        "$$  n^3 \\le 84600 \\times 10^{9} $$ \n",
        "$$ \\sqrt[3]{n^3} \\le \\sqrt[3]{8.46 \\times10^{12}}$$ \n",
        "$$ n \\le 44208 $$\n",
        "\n",
        "$Year$\n",
        "$$  n^3 \\times 10^{-9} \\ s\\le 31536000\\ s$$ \n",
        "$$  n^3 \\le 31536000 \\times 10^{9} $$ \n",
        "$$ \\sqrt[3]{n^3} \\le \\sqrt[3]{3.1536 \\times10^{15}}$$ \n",
        "$$ n \\le 315938 $$ \n",
        "\n",
        "$Century$\n",
        "$$  n^3 \\times 10^{-9} \\ s\\le 3153600000\\ s$$ \n",
        "$$  n^3 \\le 3153600000 \\times 10^{9} $$ \n",
        "$$ \\sqrt[3]{n^3} \\le \\sqrt[3]{3.1536 \\times10^{17}}$$ \n",
        "$$ n \\le 1466455 $$ \n",
        "\n",
        "$Mileniun$\n",
        "$$  n^3 \\times 10^{-9} \\ s\\le 3153600000000\\ s$$ \n",
        "$$  n^3 \\le 3153600000000 \\times 10^{9} $$ \n",
        "$$ \\sqrt[3]{n^3} \\le \\sqrt[3]{3.1536 \\times10^{20}}$$ \n",
        "$$ n \\le 14664554 $$ "
      ]
    },
    {
      "cell_type": "code",
      "execution_count": null,
      "metadata": {
        "colab": {
          "base_uri": "https://localhost:8080/"
        },
        "id": "PHR4cprXwk8a",
        "outputId": "e61aa848-2548-4fff-96e9-ef5677a10dd2"
      },
      "outputs": [
        {
          "output_type": "stream",
          "name": "stdout",
          "text": [
            "Second  1000\n",
            "Minute   3915\n",
            "Hour  15326\n",
            "Day  44208\n",
            "Year  315938\n",
            "Century  1466455\n",
            "Mileniun  14664554\n"
          ]
        }
      ],
      "source": [
        "import math\n",
        "print(\"Second \",round(math.pow(10**9 ,1/3)))\n",
        "print(\"Minute  \",round(math.pow(60*10**9 ,1/3)))\n",
        "print(\"Hour \",round(math.pow(60*60*10**9 ,1/3)))\n",
        "print(\"Day \",round(math.pow(24*60*60*10**9,1/3)))\n",
        "print(\"Year \",round(math.pow(365*24*60*60*10**9 ,1/3)))\n",
        "print(\"Century \",round(math.pow(100*365*24*60*60*10**9 ,1/3)))\n",
        "print(\"Mileniun \",round(math.pow(1000*100*365*24*60*60*10**9 ,1/3)))\n",
        "\n"
      ]
    },
    {
      "cell_type": "markdown",
      "metadata": {
        "id": "XCxRnrFBzwRG"
      },
      "source": [
        "$\\bf{ Time\\ Complexity\\ n^4 }$\n",
        "\n",
        "$Second$\n",
        "$$  n^4 \\times 10^{-9} \\ s\\le 1\\ s$$ \n",
        "$$  n^4\\le  10^{9} $$ \n",
        "$$ \\sqrt[4]{n^4 } \\le \\sqrt[4]{10^{9} }$$ \n",
        "$$ n \\le   178 $$ \n",
        "\n",
        "$Minute$\n",
        "$$  n^4 \\times 10^{-9} \\ s\\le 60\\ s$$ \n",
        "$$  n^4 \\le 60 \\times 10^{9} $$ \n",
        "$$ \\sqrt[4]{n^4 } \\le \\sqrt[4]{60 \\times10^{9} }$$ \n",
        "$$ n \\le 495 $$\n",
        "  \n",
        "$Hour$\n",
        "$$  n^4 \\times 10^{-9} \\ s\\le 3600\\ s$$ \n",
        "$$  n^4 \\le 3600 \\times 10^{9} $$ \n",
        "$$ \\sqrt[4]{n^4} \\le \\sqrt[4]{3.6 \\times10^{11}}$$ \n",
        "$$ n \\le 1377 $$  \n",
        "\n",
        "$Day$\n",
        "$$  n^4 \\times 10^{-9} \\ s\\le 84600\\ s$$ \n",
        "$$  n^4 \\le 84600 \\times 10^{9} $$ \n",
        "$$ \\sqrt[4]{n^4} \\le \\sqrt[4]{8.46 \\times10^{12}}$$ \n",
        "$$ n \\le 3049 $$\n",
        "\n",
        "$Year$\n",
        "$$  n^4 \\times 10^{-9} \\ s\\le 31536000\\ s$$ \n",
        "$$  n^4 \\le 31536000 \\times 10^{9} $$ \n",
        "$$ \\sqrt[4]{n^4} \\le \\sqrt[4]{3.1536 \\times10^{15}}$$ \n",
        "$$ n \\le 13326 $$ \n",
        "\n",
        "$Century$\n",
        "$$  n^4 \\times 10^{-9} \\ s\\le 3153600000\\ s$$ \n",
        "$$  n^4 \\le 3153600000 \\times 10^{9} $$ \n",
        "$$ \\sqrt[4]{n^4} \\le \\sqrt[4]{3.1536 \\times10^{17}}$$ \n",
        "$$ n \\le 42141 $$ \n",
        "\n",
        "$Mileniun$\n",
        "$$  n^4 \\times 10^{-9} \\ s\\le 3153600000000\\ s$$ \n",
        "$$  n^4 \\le 3153600000000 \\times 10^{9} $$ \n",
        "$$ \\sqrt[4]{n^4} \\le \\sqrt[4]{3.1536 \\times10^{20}}$$ \n",
        "$$ n \\le 236975 $$ \n",
        "\n",
        "  "
      ]
    },
    {
      "cell_type": "code",
      "execution_count": null,
      "metadata": {
        "colab": {
          "base_uri": "https://localhost:8080/"
        },
        "id": "Plb9iigt0NOd",
        "outputId": "54db00bf-740d-4d86-9531-319277cbaac6"
      },
      "outputs": [
        {
          "output_type": "stream",
          "name": "stdout",
          "text": [
            "Second  178\n",
            "Minute   495\n",
            "Hour  1377\n",
            "Day  3049\n",
            "Year  13326\n",
            "Century  42141\n",
            "Mileniun  236975\n"
          ]
        }
      ],
      "source": [
        "import math\n",
        "print(\"Second \",round(math.pow(10**9 ,1/4)))\n",
        "print(\"Minute  \",round(math.pow(60*10**9 ,1/4)))\n",
        "print(\"Hour \",round(math.pow(60*60*10**9 ,1/4)))\n",
        "print(\"Day \",round(math.pow(24*60*60*10**9 ,1/4)))\n",
        "print(\"Year \",round(math.pow(365*24*60*60*10**9 ,1/4)))\n",
        "print(\"Century \",round(math.pow(100*365*24*60*60*10**9 ,1/4)))\n",
        "print(\"Mileniun \",round(math.pow(1000*100*365*24*60*60*10**9 ,1/4)))"
      ]
    },
    {
      "cell_type": "markdown",
      "metadata": {
        "id": "CVU0Rf80UWZY"
      },
      "source": [
        "$\\bf{ Time\\ Complexity\\ 2^n }$\n",
        "\n",
        "$Second$\n",
        "$$  2^n  \\times 10^{-9} \\ s\\le 1\\ s$$ \n",
        "$$  2^n \\le  10^{9} $$ \n",
        "$$  \\lg(2^n) \\le  \\lg(10^{9} )$$ \n",
        "$$  n \\le  \\lg(10^{9} ) = 29 $$\n",
        "\n",
        "$Minute$\n",
        "$$  2^n  \\times 10^{-9} s \\le 60\\ s$$ \n",
        "$$  2^n \\le   60 \\times  10^{9} $$ \n",
        "$$  \\lg(2^n) \\le  \\lg(60 \\times  10^{9} )$$ \n",
        "$$  n \\le  \\lg(10^{60 \\times  10^{9} }) = 35 $$\n",
        "\n",
        "\n",
        "$Hour$\n",
        "$$  2^n  \\times 10^{-9} s \\le 3600\\ s$$ \n",
        "$$  2^n \\le   3600 \\times  10^{9} $$ \n",
        "$$  \\lg(2^n) \\le  \\lg(3.6 \\times  10^{11})$$ \n",
        "$$  n \\le  \\lg(10^{3.6 \\times  10^{11}}) = 41 $$\n",
        "\n",
        "$Day$\n",
        "$$  2^n  \\times 10^{-9} s \\le  84600\\ s$$ \n",
        "$$  2^n \\le    84600\\times  10^{9} $$ \n",
        "$$  \\lg(2^n) \\le  \\lg( 8.46 \\times  10^{12})$$ \n",
        "$$  n \\le  \\lg(10^{8.46 \\times  10^{12}}) = 46 $$\n",
        "\n",
        "$Year$\n",
        "$$  2^n  \\times 10^{-9} s \\le  31536000\\ s$$ \n",
        "$$  2^n \\le    31536000\\times  10^{9} $$ \n",
        "$$  \\lg(2^n) \\le  \\lg( 3.1536 \\times  10^{15})$$ \n",
        "$$  n \\le  \\lg(10^{3.1536 \\times  10^{15}}) = 54 $$\n",
        "\n",
        "$Century$\n",
        "$$  2^n  \\times 10^{-9} s \\le  3153600000\\ s$$ \n",
        "$$  2^n \\le    3153600000\\times  10^{9} $$ \n",
        "$$  \\lg(2^n) \\le  \\lg( 3.1536 \\times  10^{17})$$ \n",
        "$$  n \\le  \\lg(10^{3.1536 \\times  10^{17}}) = 61 $$\n",
        " \n",
        "\n",
        "$Mileniun$\n",
        "$$  2^n  \\times 10^{-9} s \\le  3153600000000\\ s$$ \n",
        "$$  2^n \\le    3153600000000\\times  10^{9} $$ \n",
        "$$  \\lg(2^n) \\le  \\lg( 3.1536 \\times  10^{20})$$ \n",
        "$$  n \\le  \\lg(10^{3.1536 \\times  10^{20}}) = 71 $$"
      ]
    },
    {
      "cell_type": "code",
      "execution_count": null,
      "metadata": {
        "colab": {
          "base_uri": "https://localhost:8080/"
        },
        "id": "A5cAq6LsYS3E",
        "outputId": "0e88986d-f283-43f1-8e75-266d0cd34314"
      },
      "outputs": [
        {
          "output_type": "stream",
          "name": "stdout",
          "text": [
            "Second  29\n",
            "Minute   35\n",
            "Hour  41\n",
            "Day  46\n",
            "Year  54\n",
            "Century  61\n",
            "Mileniun  71\n"
          ]
        }
      ],
      "source": [
        "import math\n",
        "print(\"Second \",int(math.log2(10**9 )))\n",
        "print(\"Minute  \",int(math.log2(60*10**9 )))\n",
        "print(\"Hour \",int(math.log2(60*60*10**9 )))\n",
        "print(\"Day \",int(math.log2(24*60*60*10**9 )))\n",
        "print(\"Year \",int(math.log2(365*24*60*60*10**9 )))\n",
        "print(\"Century \",int(math.log2(100*365*24*60*60*10**9 )))\n",
        "print(\"Mileniun \",int(math.log2(1000*100*365*24*60*60*10**9 )))"
      ]
    },
    {
      "cell_type": "code",
      "execution_count": null,
      "metadata": {
        "colab": {
          "base_uri": "https://localhost:8080/"
        },
        "id": "lwmS91_WR9hg",
        "outputId": "a0a02066-3e1e-4fbe-9d9f-16f9719a417b"
      },
      "outputs": [
        {
          "output_type": "stream",
          "name": "stdout",
          "text": [
            "Second  23\n",
            "Minute   29\n",
            "Hour  35\n",
            "Day  39\n",
            "Year  48\n",
            "Century  54\n",
            "Mileniun  64\n"
          ]
        }
      ],
      "source": [
        "import math\n",
        "def f(n):\n",
        "  return 2**n\n",
        "\n",
        "def find(f,v):\n",
        "  l = 1\n",
        "  r = 100\n",
        "  while True:\n",
        "    m = int((l+r)/2)\n",
        "    if ((f(m+1) > v) and (f(m) <= v) ) or (l == m)  or (r== m):\n",
        "      return int(m)\n",
        "    elif f(m) < v:\n",
        "      l = m\n",
        "    else: \n",
        "      r = m\n",
        "\n",
        "\n",
        "print(\"Second \", find(f,10**7 ))\n",
        "print(\"Minute  \",find(f,60*10**7 ))\n",
        "print(\"Hour \",find(f,60*60*10**7 ))\n",
        "print(\"Day \",find(f,24*60*60*10**7 ))\n",
        "print(\"Year \",find(f,365*24*60*60*10**7 ))\n",
        "print(\"Century \",find(f,100*365*24*60*60*10**7 ))\n",
        "print(\"Mileniun \",find(f,1000*100*365*24*60*60*10**7 ))"
      ]
    },
    {
      "cell_type": "markdown",
      "metadata": {
        "id": "YIWTTFoFUaku"
      },
      "source": [
        "$\\bf{ Time\\ Complexity\\ n! }$\n",
        "\n",
        "$Second$\n",
        "$$  n!  \\times 10^{-9} \\ s\\le 1\\ s$$ \n",
        "$$  n! \\le  10^{9} $$ \n",
        "$$  n \\le  12 $$\n",
        "\n",
        "\n",
        "$Minute$\n",
        "$$  n! \\times 10^{-9} \\ s\\le 60\\ s$$ \n",
        "$$  n! \\le 60 \\times 10^{9} $$ \n",
        "$$  n \\le  13 $$\n",
        "\n",
        "$Hour$\n",
        "$$  n! \\times 10^{-9} \\ s\\le 3600\\ s$$ \n",
        "$$  n! \\le 3600 \\times 10^{9}  = 3.6 \\times 10^{12}$$ \n",
        "$$  n \\le 15 $$\n",
        "\n",
        "\n",
        "$Day$\n",
        "$$  n! \\times 10^{-9} \\ s\\le 84600\\ s$$ \n",
        "$$  n! \\le 84600 \\times 10^{9}  = 8.46 \\times 10^{13}$$ \n",
        "$$  n \\le 16 $$\n",
        "\n",
        "$Year$\n",
        "$$  n! \\times 10^{-9} \\ s\\le 31536000\\ s$$ \n",
        "$$  n! \\le 31536000 \\times 10^{9}   = 3.153 \\times 10^{15}$$ \n",
        "$$  n \\le 18 $$\n",
        "\n",
        "$Century$\n",
        "$$  n! \\times 10^{-9} \\ s\\le 3153600000\\ s$$ \n",
        "$$  n! \\le 3153600000 \\times 10^{9}  = 3.153 \\times 10^{17}$$ \n",
        "$$  n \\le 20 $$\n",
        "\n",
        "$Mileniun$\n",
        "$$  n! \\times 10^{-9} \\ s\\le 3153600000000\\ s$$ \n",
        "$$  n! \\le 3153600000000 \\times 10^{9}  = 3.153 \\times 10^{21}$$ \n",
        "$$  n \\le 22 $$"
      ]
    },
    {
      "cell_type": "code",
      "execution_count": null,
      "metadata": {
        "colab": {
          "base_uri": "https://localhost:8080/"
        },
        "id": "oR-gvhokdfOT",
        "outputId": "9538af77-7a8f-40d1-8ab9-5e5ae2f2ed94"
      },
      "outputs": [
        {
          "output_type": "stream",
          "name": "stdout",
          "text": [
            "Second  12\n",
            "Minute   13\n",
            "Hour  15\n",
            "Day  16\n",
            "Year  18\n",
            "Century  20\n",
            "Mileniun  22\n"
          ]
        }
      ],
      "source": [
        "import math\n",
        "def f(n):\n",
        "  return math.factorial(n)\n",
        "\n",
        "def find(f,v):\n",
        "  l = 1\n",
        "  r = 100\n",
        "  while True:\n",
        "    m = int((l+r)/2)\n",
        "    if ((f(m+1) > v) and (f(m) <= v) ) or (l == m) or (r== m):\n",
        "      return int(m)\n",
        "    elif f(m) < v:\n",
        "      l = m\n",
        "    else: \n",
        "      r = m\n",
        "\n",
        "\n",
        "print(\"Second \", find(f,10**9 ))\n",
        "print(\"Minute  \",find(f,60*10**9 ))\n",
        "print(\"Hour \",find(f,60*60*10**9 ))\n",
        "print(\"Day \",find(f,24*60*60*10**9 ))\n",
        "print(\"Year \",find(f,365*24*60*60*10**9 ))\n",
        "print(\"Century \",find(f,100*365*24*60*60*10**9 ))\n",
        "print(\"Mileniun \",find(f,1000*100*365*24*60*60*10**9 ))"
      ]
    },
    {
      "cell_type": "markdown",
      "metadata": {
        "id": "3LQFAKycUdLH"
      },
      "source": [
        "$\\bf{ Time\\ Complexity\\ n^n }$\n",
        "\n",
        "$Second$\n",
        "$$  n^n  \\times 10^{-9} \\ s\\le 1\\ s$$ \n",
        "$$  n^n \\le  10^{9} $$ \n",
        "$$  n \\le  9 $$ \n",
        "\n",
        "$Minute$\n",
        "$$  n^n \\times 10^{-9} \\ s\\le 60\\ s$$ \n",
        "$$  n^n \\le 60 \\times 10^{9} $$ \n",
        "$$  n \\le 10 $$\n",
        "\n",
        "$Hour$\n",
        "$$  n^n \\times 10^{-9} \\ s\\le 3600\\ s$$ \n",
        "$$  n^n \\le 3600 \\times 10^{9}  = 3.6 \\times 10^{11}$$ \n",
        "$$  n \\le 11 $$\n",
        "\n",
        "$Day$\n",
        "$$  n^n \\times 10^{-9} \\ s\\le 84600\\ s$$ \n",
        "$$  n^n \\le 84600 \\times 10^{9}  = 8.46 \\times 10^{12}$$ \n",
        "$$  n \\le 12 $$\n",
        "\n",
        "$Year$\n",
        "$$  n^n \\times 10^{-9} \\ s\\le 31536000\\ s$$ \n",
        "$$  n^n \\le 31536000 \\times 10^{9}   = 3.153 \\times 10^{15}$$ \n",
        "$$  n \\le 14 $$\n",
        "\n",
        "\n",
        "$Century$\n",
        "$$  n^n \\times 10^{-9} \\ s\\le 3153600000\\ s$$ \n",
        "$$  n^n \\le 3153600000 \\times 10^{9}  = 3.153 \\times 10^{17}$$ \n",
        "$$  n \\le 15 $$ \n",
        "\n",
        "$Mileniun$\n",
        "$$  n^n \\times 10^{-9} \\ s\\le 3153600000000\\ s$$ \n",
        "$$  n^n \\le 3153600000000 \\times 10^{9}  = 3.153 \\times 10^{21}$$ \n",
        "$$  n \\le 17 $$\n"
      ]
    },
    {
      "cell_type": "code",
      "execution_count": null,
      "metadata": {
        "colab": {
          "base_uri": "https://localhost:8080/"
        },
        "id": "ygq4qFeHdzts",
        "outputId": "a6bdc553-eba5-4b8d-d3ec-271df47e36e3"
      },
      "outputs": [
        {
          "output_type": "stream",
          "name": "stdout",
          "text": [
            "Second  9\n",
            "Minute   10\n",
            "Hour  11\n",
            "Day  12\n",
            "Year  14\n",
            "Century  15\n",
            "Mileniun  17\n"
          ]
        }
      ],
      "source": [
        "import math\n",
        "def f(n):\n",
        "  return n**n\n",
        "\n",
        "def find(f,v):\n",
        "  l = 1\n",
        "  r = 100\n",
        "  while True:\n",
        "    m = int((l+r)/2)\n",
        "    if ((f(m+1) > v) and (f(m) <= v) ) or (l == m) or (r== m):\n",
        "      return int(m)\n",
        "    elif f(m) < v:\n",
        "      l = m\n",
        "    else: \n",
        "      r = m\n",
        "\n",
        "print(\"Second \", find(f,10**9 ))\n",
        "print(\"Minute  \",find(f,60*10**9 ))\n",
        "print(\"Hour \",find(f,60*60*10**9 ))\n",
        "print(\"Day \",find(f,24*60*60*10**9 ))\n",
        "print(\"Year \",find(f,365*24*60*60*10**9 ))\n",
        "print(\"Century \",find(f,100*365*24*60*60*10**9 ))\n",
        "print(\"Mileniun \",find(f,1000*100*365*24*60*60*10**9 ))"
      ]
    }
  ],
  "metadata": {
    "colab": {
      "provenance": [],
      "include_colab_link": true
    },
    "kernelspec": {
      "display_name": "Python 3 (ipykernel)",
      "language": "python",
      "name": "python3"
    },
    "language_info": {
      "codemirror_mode": {
        "name": "ipython",
        "version": 3
      },
      "file_extension": ".py",
      "mimetype": "text/x-python",
      "name": "python",
      "nbconvert_exporter": "python",
      "pygments_lexer": "ipython3",
      "version": "3.10.10"
    }
  },
  "nbformat": 4,
  "nbformat_minor": 0
}